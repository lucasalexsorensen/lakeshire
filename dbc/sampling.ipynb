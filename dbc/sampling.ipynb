{
 "cells": [
  {
   "cell_type": "code",
   "execution_count": 1,
   "metadata": {},
   "outputs": [],
   "source": [
    "from pathlib import Path\n",
    "import json"
   ]
  },
  {
   "cell_type": "code",
   "execution_count": 7,
   "metadata": {},
   "outputs": [],
   "source": [
    "p = list(Path(\"/Users/lucas/Library/Application Support/com.tauri.dev\").glob('*.json'))[0]\n",
    "p = json.loads(p.read_text())"
   ]
  },
  {
   "cell_type": "code",
   "execution_count": 108,
   "metadata": {},
   "outputs": [
    {
     "data": {
      "image/png": "[encoded data removed]",
      "text/plain": [
       "<Figure size 720x576 with 1 Axes>"
      ]
     },
     "metadata": {},
     "output_type": "display_data"
    }
   ],
   "source": [
    "import numpy as np\n",
    "import matplotlib.pyplot as plt\n",
    "plt.figure(figsize=(10,8))\n",
    "h,w = p['height'], p['width']\n",
    "plt.xlim(0.25*w, 0.75*w)\n",
    "plt.ylim(0.25*h, 0.75*h)\n",
    "\n",
    "for line in p['lines']:\n",
    "    x = np.array([pt['x'] for pt in line['points']])\n",
    "    y = np.array([pt['y'] for pt in line['points']])\n",
    "    plt.plot(x,h-y, lw=1)\n",
    "    A = np.stack([x,y], axis=1)\n",
    "    sampled = A[::10, :]\n",
    "    plt.plot(sampled[:,0], h-sampled[:,1], 'o', ms=3)\n",
    "    \n",
    "plt.show()"
   ]
  },
  {
   "cell_type": "code",
   "execution_count": 100,
   "metadata": {},
   "outputs": [
    {
     "data": {
      "text/plain": [
       "{'UiMin[0]': '0',\n",
       " 'UiMin[1]': '0',\n",
       " 'UiMax[0]': '1',\n",
       " 'UiMax[1]': '1',\n",
       " 'Region[0]': '-1716.6666',\n",
       " 'Region[1]': '-7249.9995',\n",
       " 'Region[2]': '-1000000',\n",
       " 'Region[3]': '1808.3333',\n",
       " 'Region[4]': '-1962.4999',\n",
       " 'Region[5]': '1000000',\n",
       " 'ID': '46721',\n",
       " 'UiMapID': '1411',\n",
       " 'OrderIndex': '0',\n",
       " 'MapID': '1',\n",
       " 'AreaID': '14',\n",
       " 'WMODoodadPlacementID': '0',\n",
       " 'WMOGroupID': '0'}"
      ]
     },
     "execution_count": 100,
     "metadata": {},
     "output_type": "execute_result"
    }
   ],
   "source": [
    "import csv\n",
    "\n",
    "with open('dbc/uimapassignment.csv', 'r') as f:\n",
    "    reader = csv.DictReader(f)\n",
    "    for ui_row in reader:\n",
    "        if ui_row['AreaID'] == '14':\n",
    "            break\n",
    "\n",
    "ui_row"
   ]
  },
  {
   "cell_type": "code",
   "execution_count": 127,
   "metadata": {},
   "outputs": [
    {
     "data": {
      "text/plain": [
       "array([[-4.50784297e+03,  6.76243159e+02],\n",
       "       [-4.47980187e+03,  6.60716865e+02],\n",
       "       [-4.43873151e+03,  6.57309200e+02],\n",
       "       [-4.40642782e+03,  6.52926744e+02],\n",
       "       [-4.39161363e+03,  6.47547133e+02],\n",
       "       [-4.36883723e+03,  6.36671879e+02],\n",
       "       [-4.34852939e+03,  6.30571881e+02],\n",
       "       [-4.33308957e+03,  6.12492507e+02],\n",
       "       [-4.32604160e+03,  5.91345554e+02],\n",
       "       [-4.32045834e+03,  5.66369440e+02],\n",
       "       [-4.31484159e+03,  5.26235503e+02],\n",
       "       [-4.31437898e+03,  5.01110307e+02],\n",
       "       [-4.31296679e+03,  4.75525189e+02],\n",
       "       [-4.30760525e+03,  4.50566100e+02],\n",
       "       [-4.30119140e+03,  4.24497371e+02],\n",
       "       [-4.29599402e+03,  4.04640315e+02],\n",
       "       [-4.29235166e+03,  3.80390208e+02],\n",
       "       [-4.28540898e+03,  3.49800681e+02],\n",
       "       [-4.28306287e+03,  3.30118428e+02],\n",
       "       [-4.27831703e+03,  2.89907265e+02],\n",
       "       [-4.27751907e+03,  2.59776620e+02],\n",
       "       [-4.28550914e+03,  2.23257991e+02],\n",
       "       [-4.29446530e+03,  1.92957248e+02],\n",
       "       [-4.30592002e+03,  1.53643763e+02],\n",
       "       [-4.31337318e+03,  1.13942950e+02],\n",
       "       [-4.31606292e+03,  9.35527091e+01],\n",
       "       [-4.31856501e+03,  5.36358038e+01],\n",
       "       [-4.32296366e+03,  2.74355250e+01],\n",
       "       [-4.32707082e+03, -1.70590016e+00],\n",
       "       [-4.32798300e+03, -4.69169212e+01],\n",
       "       [-4.32805920e+03, -8.71388585e+01],\n",
       "       [-4.32806542e+03, -1.07249966e+02],\n",
       "       [-4.33018046e+03, -1.32637005e+02],\n",
       "       [-4.33188368e+03, -1.52524939e+02],\n",
       "       [-4.33443525e+03, -1.82991427e+02],\n",
       "       [-4.33688030e+03, -2.17867706e+02],\n",
       "       [-4.33723576e+03, -2.53055634e+02],\n",
       "       [-4.33728078e+03, -2.83222185e+02],\n",
       "       [-4.33520706e+03, -3.03587225e+02],\n",
       "       [-4.33207863e+03, -3.24092141e+02]])"
      ]
     },
     "execution_count": 127,
     "metadata": {},
     "output_type": "execute_result"
    }
   ],
   "source": [
    "x_max, x_min = float(ui_row['Region[0]']), float(ui_row['Region[1]'])\n",
    "y_max, y_min = float(ui_row['Region[3]']), float(ui_row['Region[4]'])\n",
    "\n",
    "x_span = x_max - x_min\n",
    "y_span = y_max - y_min\n",
    "\n",
    "n = sampled / np.array([w,h])\n",
    "real = np.array([x_min, y_min]) + n * np.array([x_span, y_span])\n",
    "real"
   ]
  },
  {
   "cell_type": "code",
   "execution_count": null,
   "metadata": {},
   "outputs": [],
   "source": [
    " "
   ]
  }
 ],
 "metadata": {
  "kernelspec": {
   "display_name": "base",
   "language": "python",
   "name": "python3"
  },
  "language_info": {
   "codemirror_mode": {
    "name": "ipython",
    "version": 3
   },
   "file_extension": ".py",
   "mimetype": "text/x-python",
   "name": "python",
   "nbconvert_exporter": "python",
   "pygments_lexer": "ipython3",
   "version": "3.10.2"
  },
  "orig_nbformat": 4
 },
 "nbformat": 4,
 "nbformat_minor": 2
}
